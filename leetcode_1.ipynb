{
 "cells": [
  {
   "cell_type": "markdown",
   "id": "cb4581eb-560e-41f7-8396-532d0783e911",
   "metadata": {},
   "source": [
    "8 ##Binary Search - Leet 704"
   ]
  },
  {
   "cell_type": "code",
   "execution_count": 19,
   "id": "116eeddc-14f7-4458-af70-82a81dbb4849",
   "metadata": {},
   "outputs": [
    {
     "name": "stdout",
     "output_type": "stream",
     "text": [
      "4\n",
      "left\n",
      "5\n",
      "7\n",
      "left\n",
      "8\n",
      "8\n",
      "myarray[mid]-->\n",
      "17\n",
      "8\n"
     ]
    }
   ],
   "source": [
    "def binaryseach(myarray,mytarget):\n",
    "    left=0\n",
    "    right=len(myarray)-1\n",
    "    \n",
    "\n",
    "    while left <= right:\n",
    "        mid = (left+right)//2\n",
    "        print(mid)\n",
    "        if myarray[mid]==mytarget: \n",
    "            print('myarray[mid]-->')\n",
    "            print(myarray[mid])\n",
    "            return mid\n",
    "\n",
    "        if myarray[mid]<mytarget:\n",
    "            left=mid+1\n",
    "            print('left')\n",
    "            print(left)\n",
    "        else:\n",
    "            right=mid-1\n",
    "            print('right')\n",
    "            print(right)\n",
    "    return -1\n",
    "    \n",
    "myarray = [1, 3, 5, 7, 9, 11, 13, 15, 17, 19]\n",
    "mytarget = 17\n",
    "result = binaryseach(myarray,mytarget)\n",
    "print(result)"
   ]
  },
  {
   "cell_type": "markdown",
   "id": "689cf3be-3e87-44be-9d31-4b30d5254366",
   "metadata": {},
   "source": [
    "##Binary Search - leet 704 "
   ]
  },
  {
   "cell_type": "code",
   "execution_count": 20,
   "id": "8dbb2b4e-39bf-4922-b71c-fe1b150675a9",
   "metadata": {},
   "outputs": [
    {
     "name": "stdout",
     "output_type": "stream",
     "text": [
      "2\n",
      "left\n",
      "3\n",
      "4\n",
      "myarray[mid]-->\n",
      "9\n",
      "4\n"
     ]
    }
   ],
   "source": [
    "def binarysearch(array,target):\n",
    "    left=0 \n",
    "    right=len(array)-1\n",
    "\n",
    "    while left <= right:\n",
    "        mid=(left+right)//2\n",
    "        print(mid)\n",
    "\n",
    "        if array[mid]==target:\n",
    "            print(array[mid])\n",
    "            return array[mid]\n",
    "\n",
    "        if array[mid]<target:\n",
    "            left=mid+1\n",
    "        else:\n",
    "            right=mid-1\n",
    "    return -1 \n",
    "\n",
    "nums = [-1,0,3,5,9,12]\n",
    "target = 9\n",
    "result=binaryseach(nums,target)\n",
    "print(result)"
   ]
  },
  {
   "cell_type": "markdown",
   "id": "319e3ee4-252e-48df-83cb-542f6f28294a",
   "metadata": {},
   "source": [
    "7 ##Anagram 242"
   ]
  },
  {
   "cell_type": "code",
   "execution_count": 24,
   "id": "def490d5-801c-41ae-a07c-7e387fcf2e59",
   "metadata": {},
   "outputs": [
    {
     "name": "stdout",
     "output_type": "stream",
     "text": [
      "1\n",
      "1\n",
      "2\n",
      "1\n",
      "1\n",
      "3\n",
      "1\n"
     ]
    }
   ],
   "source": [
    "s_count = {}\n",
    "t_count = {}\n",
    "s = \"anagram\"\n",
    "t = \"nagaram\"\n",
    "\n",
    "for i in range(len(s)):\n",
    "    s_count[s[i]] = 1 + s_count.get(s[i], 0)\n",
    "    t_count[t[i]] = 1 + t_count.get(t[i], 0)\n",
    "    print(s_count.get(s[i], 0))"
   ]
  },
  {
   "cell_type": "markdown",
   "id": "6134ee43-1b36-4509-a12b-454f9b24d4e7",
   "metadata": {},
   "source": [
    "7 ##Anagram 242\n"
   ]
  },
  {
   "cell_type": "code",
   "execution_count": 36,
   "id": "ec7d6f60-b0b6-4c25-b25b-bed7eefb515a",
   "metadata": {},
   "outputs": [
    {
     "name": "stdout",
     "output_type": "stream",
     "text": [
      "1\n",
      "{'a': 1}\n",
      "1\n",
      "{'a': 1, 'n': 1}\n",
      "2\n",
      "{'a': 2, 'n': 1}\n",
      "1\n",
      "{'a': 2, 'n': 1, 'g': 1}\n",
      "1\n",
      "{'a': 2, 'n': 1, 'g': 1, 'r': 1}\n",
      "3\n",
      "{'a': 3, 'n': 1, 'g': 1, 'r': 1}\n",
      "1\n",
      "{'a': 3, 'n': 1, 'g': 1, 'r': 1, 'm': 1}\n",
      "1\n",
      "{'n': 1}\n",
      "1\n",
      "{'n': 1, 'a': 1}\n",
      "1\n",
      "{'n': 1, 'a': 1, 'g': 1}\n",
      "2\n",
      "{'n': 1, 'a': 2, 'g': 1}\n",
      "1\n",
      "{'n': 1, 'a': 2, 'g': 1, 'r': 1}\n",
      "3\n",
      "{'n': 1, 'a': 3, 'g': 1, 'r': 1}\n",
      "1\n",
      "{'n': 1, 'a': 3, 'g': 1, 'r': 1, 'm': 1}\n"
     ]
    },
    {
     "data": {
      "text/plain": [
       "True"
      ]
     },
     "execution_count": 36,
     "metadata": {},
     "output_type": "execute_result"
    }
   ],
   "source": [
    "s = \"anagram\"\n",
    "t = \"nagaram\"\n",
    "def isAnagram(s: str, t: str) :  \n",
    "        if len(s) != len(t):\n",
    "            return False\n",
    "\n",
    "        counter = {}\n",
    "        counter1 = {}\n",
    "        for char in s:\n",
    "            counter[char] = counter.get(char, 0) +1\n",
    "            print(counter.get(char))\n",
    "            print(counter)\n",
    "        for char1 in t:\n",
    "            counter1[char1] = counter1.get(char1, 0) +1\n",
    "            print(counter1.get(char1))\n",
    "            print(counter1)\n",
    "        if counter[char]==counter1[char1]:\n",
    "            return True\n",
    "        else:\n",
    "            return False\n",
    "isAnagram(s,t)"
   ]
  },
  {
   "cell_type": "markdown",
   "id": "efe1fbb8-b2f3-4e70-8f12-8ee600c70eba",
   "metadata": {},
   "source": [
    "##136. Single Number"
   ]
  },
  {
   "cell_type": "code",
   "execution_count": 20,
   "id": "8e9f2dc7-26a4-4ef3-b5ef-021a34dd5173",
   "metadata": {},
   "outputs": [
    {
     "name": "stdout",
     "output_type": "stream",
     "text": [
      "{}\n",
      "{2: 1}\n",
      "{2: 2}\n",
      "{2: 2, 1: 1}\n",
      "[1]\n"
     ]
    }
   ],
   "source": [
    "nums = [2,2,1]\n",
    "\n",
    "counter={}\n",
    "print(counter)\n",
    "for val in nums:\n",
    "    counter[val]=counter.get(val,0)+1\n",
    "    print(counter)\n",
    "\n",
    "key= [key  for key,value in counter.items() if value==1]\n",
    "print(key)"
   ]
  },
  {
   "cell_type": "markdown",
   "id": "21b5a39c-3cde-4077-9ca7-bb990a04e988",
   "metadata": {},
   "source": [
    "##169. Majority Element"
   ]
  },
  {
   "cell_type": "code",
   "execution_count": 58,
   "id": "39b2ab44-5857-4e75-a20d-d174d54bebe2",
   "metadata": {},
   "outputs": [
    {
     "name": "stdout",
     "output_type": "stream",
     "text": [
      "1\n",
      "2\n",
      "2\n",
      "2\n",
      "3\n",
      "1\n",
      "4\n",
      "2\n"
     ]
    }
   ],
   "source": [
    "nums = [2,2,1,1,1,2,2]\n",
    "\n",
    "counter={}\n",
    "maj=0\n",
    "for num in nums:\n",
    "    counter[num]=counter.get(num,0)+1\n",
    "    if counter[num]>maj:\n",
    "        maj=counter[num]\n",
    "        print(maj)\n",
    "        print(num)"
   ]
  },
  {
   "cell_type": "markdown",
   "id": "265caf85-5cd4-4b07-8f3f-4cac40ff7a8f",
   "metadata": {},
   "source": [
    "##Reverse String 344"
   ]
  },
  {
   "cell_type": "code",
   "execution_count": 1,
   "id": "9a8ec168-20a7-4cb0-9ec9-f297619bdb83",
   "metadata": {},
   "outputs": [
    {
     "name": "stdout",
     "output_type": "stream",
     "text": [
      "['o', 'l', 'l', 'e', 'h']\n"
     ]
    }
   ],
   "source": [
    "s = [\"h\",\"e\",\"l\",\"l\",\"o\"]\n",
    "\n",
    "left=0\n",
    "right=len(s)-1\n",
    "\n",
    "while left<right:\n",
    "    s[left],s[right]=s[right],s[left]\n",
    "    left+=1\n",
    "    right-=1\n",
    "\n",
    "print(s)"
   ]
  },
  {
   "cell_type": "markdown",
   "id": "dc9d94f8-5974-4018-af41-7ac2b5a05f20",
   "metadata": {},
   "source": [
    "## Maximum Subarray 53"
   ]
  },
  {
   "cell_type": "code",
   "execution_count": 9,
   "id": "bbbc6adc-5d51-4196-a52c-adae41502944",
   "metadata": {},
   "outputs": [
    {
     "name": "stdout",
     "output_type": "stream",
     "text": [
      "0\n",
      "1\n",
      "1\n",
      "4\n",
      "4\n",
      "5\n",
      "6\n",
      "6\n",
      "6\n"
     ]
    }
   ],
   "source": [
    "nums = [-2,1,-3,4,-1,2,1,-5,4]\n",
    "\n",
    "\n",
    "res=0\n",
    "total=0\n",
    "\n",
    "\n",
    "for i in nums:\n",
    "\n",
    "    if total <0:\n",
    "        total=0\n",
    "\n",
    "    total+=i\n",
    "\n",
    "    res=max(res,total)\n",
    "\n",
    "    print(res)\n",
    "    #print(daa)\n"
   ]
  },
  {
   "cell_type": "markdown",
   "id": "55119dc0-21d0-4f8a-9917-b3bc21d12c48",
   "metadata": {},
   "source": [
    "##Climbing Stairs 70"
   ]
  },
  {
   "cell_type": "code",
   "execution_count": 18,
   "id": "04bafd45-6895-42d6-bd0b-0e0e26c7dd68",
   "metadata": {},
   "outputs": [
    {
     "data": {
      "text/plain": [
       "5"
      ]
     },
     "execution_count": 18,
     "metadata": {},
     "output_type": "execute_result"
    }
   ],
   "source": [
    "class Solution:\n",
    "    def climbStairs(self,n):\n",
    "        if n==0 or n==1:\n",
    "            return 1 \n",
    "        return self.climbStairs(n-1)+self.climbStairs(n-2)\n",
    "\n",
    "sol=Solution()\n",
    "sol.climbStairs(4)"
   ]
  },
  {
   "cell_type": "code",
   "execution_count": null,
   "id": "7c3f3919-d445-4c51-a5a3-889536c5b3ae",
   "metadata": {},
   "outputs": [],
   "source": []
  }
 ],
 "metadata": {
  "kernelspec": {
   "display_name": "Python 3 (ipykernel)",
   "language": "python",
   "name": "python3"
  },
  "language_info": {
   "codemirror_mode": {
    "name": "ipython",
    "version": 3
   },
   "file_extension": ".py",
   "mimetype": "text/x-python",
   "name": "python",
   "nbconvert_exporter": "python",
   "pygments_lexer": "ipython3",
   "version": "3.8.3"
  }
 },
 "nbformat": 4,
 "nbformat_minor": 5
}
